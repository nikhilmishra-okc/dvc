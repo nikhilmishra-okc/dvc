{
 "cells": [
  {
   "cell_type": "code",
   "execution_count": 1,
   "metadata": {},
   "outputs": [
    {
     "name": "stdout",
     "output_type": "stream",
     "text": [
      "/home/nikhilmishra_okcredit_in/okcredit_github/retraining_pipeline/training_pipeline\n"
     ]
    }
   ],
   "source": [
    "%cd \"~/okcredit_github/retraining_pipeline/training_pipeline\""
   ]
  },
  {
   "cell_type": "code",
   "execution_count": 34,
   "metadata": {},
   "outputs": [],
   "source": [
    "import pandas as pd\n",
    "import numpy as np\n",
    "import sys\n",
    "import os\n",
    "from omegaconf import OmegaConf\n",
    "from okcredit_ml.ml_pipeline import classifier, model, validation\n",
    "\n",
    "from okcredit_ml.cloud_connectors import gcp\n",
    "from copy import deepcopy\n",
    "from src import utils\n",
    "\n",
    "sys.path.append('../feature_pipeline/')\n",
    "sys.path.append('../feature_pipeline/svc')\n",
    "from OKCFeaturePipeline import OKCFeaturePipeline\n",
    "\n",
    "from pathlib import Path\n",
    "from google.cloud import storage\n",
    "import joblib\n",
    "\n",
    "gcp_bq = gcp.BQPy(project_id='okcredit-data-science')"
   ]
  },
  {
   "cell_type": "code",
   "execution_count": 35,
   "metadata": {},
   "outputs": [],
   "source": [
    "data_config = OmegaConf.load('./configs/data_config.yaml')\n",
    "feature_pipe_config = OmegaConf.load(\"./configs/feature_pipeline_config_template.yaml\")"
   ]
  },
  {
   "cell_type": "code",
   "execution_count": 36,
   "metadata": {},
   "outputs": [],
   "source": [
    "# Delete the old feature pipeline output table if it exists, since feature pipeline always appends to the table\n",
    "\n",
    "config = utils.create_config_from_template(feature_pipe_config, '0_to_7')\n",
    "config.basetables.cohort='okcredit-data-science.nikhil.all_merchants_0_to_7'\n",
    "\n",
    "gcp_bq.delete_table(config.sink)\n",
    "pipeline = OKCFeaturePipeline(config=config)\n",
    "pipeline.predict(X=['2022-08-16'], names= ['run_date'])\n",
    "\n",
    "print(f'Completed feature pipeline')\n",
    "    \n",
    "print(f'Cleaning up temporary tables')\n",
    "utils.cleanup_tables(project='okcredit-data-science', config=config)"
   ]
  },
  {
   "cell_type": "code",
   "execution_count": 37,
   "metadata": {},
   "outputs": [
    {
     "name": "stdout",
     "output_type": "stream",
     "text": [
      "CPU times: user 21.2 s, sys: 8.54 s, total: 29.8 s\n",
      "Wall time: 52.1 s\n"
     ]
    }
   ],
   "source": [
    "%%time\n",
    "query = f'SELECT * FROM `{config.sink}`\\nWHERE\\n'\n",
    "\n",
    "for i, df_name in enumerate(data_config.create_features_for_files):\n",
    "    \n",
    "    feature_config = OmegaConf.load(os.path.join(data_config.config_path, f'feature_pipeline_config_{df_name}.yaml'))\n",
    "\n",
    "    if i > 0:\n",
    "        query += \"AND \\n\"\n",
    "    query += f'merchant_id NOT IN (SELECT merchant_id FROM `{feature_config.sink}`)\\n'\n",
    "    \n",
    "fts_df = gcp_bq.bq_to_pandas(query)"
   ]
  },
  {
   "cell_type": "code",
   "execution_count": 38,
   "metadata": {},
   "outputs": [],
   "source": [
    "fts_df['run_date'] = pd.to_datetime(fts_df['run_date'])"
   ]
  },
  {
   "cell_type": "code",
   "execution_count": 39,
   "metadata": {},
   "outputs": [],
   "source": [
    "train_config = OmegaConf.load('./configs/train_config.yaml')\n",
    "\n",
    "model_local_file_path = os.path.join(train_config.output_dir.model.local, train_config.output_dir.model.save_name)\n",
    "classifier_obj = joblib.load(model_local_file_path)\n",
    "\n",
    "fts_df['model_preds'] = classifier_obj.predict(fts_df)"
   ]
  },
  {
   "cell_type": "code",
   "execution_count": 40,
   "metadata": {},
   "outputs": [],
   "source": [
    "def get_approval_and_threshold(test_df):\n",
    "   \n",
    "    res_df = pd.DataFrame()\n",
    "    pct_approval_range = np.arange(0, 105, 5)\n",
    "\n",
    "    res_df['0 to 7% approval'] = pct_approval_range\n",
    "    \n",
    "    thresholds = []\n",
    "    \n",
    "    for pct_approval in pct_approval_range:\n",
    "\n",
    "        threshold = test_df['model_preds'].quantile(pct_approval/100)\n",
    "        thresholds.append(threshold)\n",
    "            \n",
    "            \n",
    "    res_df['threshold'] = thresholds\n",
    "        \n",
    "    return res_df"
   ]
  },
  {
   "cell_type": "code",
   "execution_count": 41,
   "metadata": {},
   "outputs": [],
   "source": [
    "res_df = get_approval_and_threshold(fts_df)"
   ]
  },
  {
   "cell_type": "code",
   "execution_count": 42,
   "metadata": {},
   "outputs": [
    {
     "data": {
      "text/html": [
       "<div>\n",
       "<style scoped>\n",
       "    .dataframe tbody tr th:only-of-type {\n",
       "        vertical-align: middle;\n",
       "    }\n",
       "\n",
       "    .dataframe tbody tr th {\n",
       "        vertical-align: top;\n",
       "    }\n",
       "\n",
       "    .dataframe thead th {\n",
       "        text-align: right;\n",
       "    }\n",
       "</style>\n",
       "<table border=\"1\" class=\"dataframe\">\n",
       "  <thead>\n",
       "    <tr style=\"text-align: right;\">\n",
       "      <th></th>\n",
       "      <th>0 to 7% approval</th>\n",
       "      <th>threshold</th>\n",
       "    </tr>\n",
       "  </thead>\n",
       "  <tbody>\n",
       "    <tr>\n",
       "      <th>0</th>\n",
       "      <td>0</td>\n",
       "      <td>0.030240</td>\n",
       "    </tr>\n",
       "    <tr>\n",
       "      <th>1</th>\n",
       "      <td>5</td>\n",
       "      <td>0.035185</td>\n",
       "    </tr>\n",
       "    <tr>\n",
       "      <th>2</th>\n",
       "      <td>10</td>\n",
       "      <td>0.038121</td>\n",
       "    </tr>\n",
       "    <tr>\n",
       "      <th>3</th>\n",
       "      <td>15</td>\n",
       "      <td>0.040682</td>\n",
       "    </tr>\n",
       "    <tr>\n",
       "      <th>4</th>\n",
       "      <td>20</td>\n",
       "      <td>0.042973</td>\n",
       "    </tr>\n",
       "    <tr>\n",
       "      <th>5</th>\n",
       "      <td>25</td>\n",
       "      <td>0.045059</td>\n",
       "    </tr>\n",
       "    <tr>\n",
       "      <th>6</th>\n",
       "      <td>30</td>\n",
       "      <td>0.047176</td>\n",
       "    </tr>\n",
       "    <tr>\n",
       "      <th>7</th>\n",
       "      <td>35</td>\n",
       "      <td>0.049338</td>\n",
       "    </tr>\n",
       "    <tr>\n",
       "      <th>8</th>\n",
       "      <td>40</td>\n",
       "      <td>0.051637</td>\n",
       "    </tr>\n",
       "    <tr>\n",
       "      <th>9</th>\n",
       "      <td>45</td>\n",
       "      <td>0.054126</td>\n",
       "    </tr>\n",
       "    <tr>\n",
       "      <th>10</th>\n",
       "      <td>50</td>\n",
       "      <td>0.057065</td>\n",
       "    </tr>\n",
       "    <tr>\n",
       "      <th>11</th>\n",
       "      <td>55</td>\n",
       "      <td>0.060719</td>\n",
       "    </tr>\n",
       "    <tr>\n",
       "      <th>12</th>\n",
       "      <td>60</td>\n",
       "      <td>0.065275</td>\n",
       "    </tr>\n",
       "    <tr>\n",
       "      <th>13</th>\n",
       "      <td>65</td>\n",
       "      <td>0.071185</td>\n",
       "    </tr>\n",
       "    <tr>\n",
       "      <th>14</th>\n",
       "      <td>70</td>\n",
       "      <td>0.079070</td>\n",
       "    </tr>\n",
       "    <tr>\n",
       "      <th>15</th>\n",
       "      <td>75</td>\n",
       "      <td>0.089174</td>\n",
       "    </tr>\n",
       "    <tr>\n",
       "      <th>16</th>\n",
       "      <td>80</td>\n",
       "      <td>0.100760</td>\n",
       "    </tr>\n",
       "    <tr>\n",
       "      <th>17</th>\n",
       "      <td>85</td>\n",
       "      <td>0.116019</td>\n",
       "    </tr>\n",
       "    <tr>\n",
       "      <th>18</th>\n",
       "      <td>90</td>\n",
       "      <td>0.137480</td>\n",
       "    </tr>\n",
       "    <tr>\n",
       "      <th>19</th>\n",
       "      <td>95</td>\n",
       "      <td>0.160535</td>\n",
       "    </tr>\n",
       "    <tr>\n",
       "      <th>20</th>\n",
       "      <td>100</td>\n",
       "      <td>0.287977</td>\n",
       "    </tr>\n",
       "  </tbody>\n",
       "</table>\n",
       "</div>"
      ],
      "text/plain": [
       "    0 to 7% approval  threshold\n",
       "0                  0   0.030240\n",
       "1                  5   0.035185\n",
       "2                 10   0.038121\n",
       "3                 15   0.040682\n",
       "4                 20   0.042973\n",
       "5                 25   0.045059\n",
       "6                 30   0.047176\n",
       "7                 35   0.049338\n",
       "8                 40   0.051637\n",
       "9                 45   0.054126\n",
       "10                50   0.057065\n",
       "11                55   0.060719\n",
       "12                60   0.065275\n",
       "13                65   0.071185\n",
       "14                70   0.079070\n",
       "15                75   0.089174\n",
       "16                80   0.100760\n",
       "17                85   0.116019\n",
       "18                90   0.137480\n",
       "19                95   0.160535\n",
       "20               100   0.287977"
      ]
     },
     "execution_count": 42,
     "metadata": {},
     "output_type": "execute_result"
    }
   ],
   "source": [
    "res_df"
   ]
  }
 ],
 "metadata": {
  "kernelspec": {
   "display_name": "Python 3 (ipykernel)",
   "language": "python",
   "name": "python3"
  },
  "language_info": {
   "codemirror_mode": {
    "name": "ipython",
    "version": 3
   },
   "file_extension": ".py",
   "mimetype": "text/x-python",
   "name": "python",
   "nbconvert_exporter": "python",
   "pygments_lexer": "ipython3",
   "version": "3.7.12"
  },
  "orig_nbformat": 4
 },
 "nbformat": 4,
 "nbformat_minor": 2
}
