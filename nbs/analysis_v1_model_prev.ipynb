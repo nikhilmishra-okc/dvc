{
 "cells": [
  {
   "cell_type": "code",
   "execution_count": 10,
   "metadata": {},
   "outputs": [
    {
     "name": "stdout",
     "output_type": "stream",
     "text": [
      "/home/nikhilmishra_okcredit_in/okcredit_github/retraining_pipeline/training_pipeline/nbs\n"
     ]
    }
   ],
   "source": [
    "%cd \"~/okcredit_github/retraining_pipeline/training_pipeline/nbs\""
   ]
  },
  {
   "cell_type": "code",
   "execution_count": 73,
   "metadata": {},
   "outputs": [],
   "source": [
    "import pandas as pd\n",
    "import numpy as np\n",
    "import sys\n",
    "import os\n",
    "from omegaconf import OmegaConf\n",
    "from okcredit_ml.ml_pipeline import classifier, model, validation\n",
    "\n",
    "from okcredit_ml.cloud_connectors import gcp\n",
    "from copy import deepcopy\n",
    "\n",
    "\n",
    "sys.path.append('..')\n",
    "from src import utils\n",
    "\n",
    "sys.path.append('../../feature_pipeline/')\n",
    "sys.path.append('../../feature_pipeline/svc')\n",
    "from OKCFeaturePipeline import OKCFeaturePipeline\n",
    "\n",
    "from pathlib import Path\n",
    "from google.cloud import storage\n",
    "\n",
    "gcp_bq = gcp.BQPy(project_id='okcredit-data-science')"
   ]
  },
  {
   "cell_type": "code",
   "execution_count": 74,
   "metadata": {},
   "outputs": [],
   "source": [
    "data_config = OmegaConf.load('../configs/data_config.yaml')\n",
    "feature_pipe_config = OmegaConf.load(\"../configs/feature_pipeline_config_template.yaml\")"
   ]
  },
  {
   "cell_type": "code",
   "execution_count": 75,
   "metadata": {},
   "outputs": [
    {
     "name": "stdout",
     "output_type": "stream",
     "text": [
      "File test_bnpl_fts.csv downloaded to ../data/test_bnpl_fts.csv\n",
      "File test_tl_fts.csv downloaded to ../data/test_tl_fts.csv\n",
      "File train_bnpl_fts.csv downloaded to ../data/train_bnpl_fts.csv\n",
      "File train_tl_fts.csv downloaded to ../data/train_tl_fts.csv\n"
     ]
    }
   ],
   "source": [
    "utils.download_files_from_gcs_folder(project=data_config.data_path.gcs.project,\n",
    "                                     bucket_name=data_config.data_path.gcs.bucket_name,\n",
    "                                     gcs_folder_path=data_config.data_path.gcs.features,\n",
    "                                     local_save_path=data_config.data_path.local)"
   ]
  },
  {
   "cell_type": "code",
   "execution_count": 172,
   "metadata": {},
   "outputs": [],
   "source": [
    "train_tl_fts = pd.read_csv(os.path.join(data_config.data_path.local, 'train_tl_fts.csv'))\n",
    "train_bnpl_fts = pd.read_csv(os.path.join(data_config.data_path.local, 'train_bnpl_fts.csv'))\n",
    "train_comb = pd.read_csv(os.path.join(data_config.data_path.local, 'train_comb.csv'))\n",
    "train_comb['run_date'] = pd.to_datetime(train_comb['run_date'])"
   ]
  },
  {
   "cell_type": "code",
   "execution_count": 173,
   "metadata": {},
   "outputs": [],
   "source": [
    "train_fts_all = pd.concat([train_tl_fts, train_bnpl_fts], axis=0).reset_index(drop=True)\n",
    "train_fts_all['run_date'] = pd.to_datetime(train_fts_all['run_date'])"
   ]
  },
  {
   "cell_type": "code",
   "execution_count": 174,
   "metadata": {},
   "outputs": [
    {
     "data": {
      "text/plain": [
       "(5770, 115)"
      ]
     },
     "execution_count": 174,
     "metadata": {},
     "output_type": "execute_result"
    }
   ],
   "source": [
    "train_fts_all.fillna(-999).drop_duplicates().shape"
   ]
  },
  {
   "cell_type": "code",
   "execution_count": 175,
   "metadata": {},
   "outputs": [
    {
     "name": "stdout",
     "output_type": "stream",
     "text": [
      "(5770, 3) (5769, 115)\n",
      "(5770, 115)\n"
     ]
    }
   ],
   "source": [
    "\n",
    "train_fts_all = train_fts_all.drop_duplicates(subset=['merchant_id', 'run_date', 'target'], keep='last').reset_index(drop=True)\n",
    "print(train_comb.shape, train_fts_all.shape)\n",
    "train_comb = pd.merge(train_comb, train_fts_all, on=['merchant_id', 'run_date', 'target'], how='left')\n",
    "print(train_comb.shape)"
   ]
  },
  {
   "cell_type": "code",
   "execution_count": 176,
   "metadata": {},
   "outputs": [],
   "source": [
    "train_other = pd.read_csv('merchant_ids_comb.csv')"
   ]
  },
  {
   "cell_type": "code",
   "execution_count": 192,
   "metadata": {},
   "outputs": [],
   "source": [
    "fts = ['pred_labels',\n",
    " 'range_tnx_hour_last_90_days',\n",
    " 'range_tnx_hour_last_180_days',\n",
    " 'range_tnx_hour_last_365_days',\n",
    " 'range_tnx_hour_last_150_days',\n",
    " 'range_tnx_hour_last_120_days',\n",
    " 'range_tnx_hour_last_60_days',\n",
    " 'pincode_2',\n",
    " 'pincode_3',\n",
    " 'state',\n",
    " 'total_sessions_diff_3_to_7_days',\n",
    " 'seller_min_amount_ratio_15_to_30_days',\n",
    " 'total_sessions_last_90_days',\n",
    " 'score',\n",
    " 'std_tnx_hour_last_90_days',\n",
    " 'total_sessions_diff_7_to_30_days',\n",
    " 'seller_min_amount_diff_15_to_30_days',\n",
    " 'total_sessions_last_3_days',\n",
    " 'total_sessions_last_60_days',\n",
    " 'avg_tnx_hour_last_60_days',\n",
    " 'seller_unique_account_ids_ratio_3_to_7_days',\n",
    " 'range_tnx_hour_last_45_days',\n",
    " 'avg_tnx_hour_last_45_days',\n",
    " 'std_tnx_hour_last_120_days',\n",
    " 'avg_tnx_hour_last_180_days',\n",
    " 'total_sessions_last_30_days',\n",
    " 'avg_tnx_hour_last_30_days',\n",
    " 'std_tnx_hour_last_150_days',\n",
    " 'total_sessions_last_45_days',\n",
    " 'buyer_total_transactions_diff_150_to_180_days',\n",
    " 'avg_tnx_hour_last_150_days',\n",
    " 'total_sessions_last_15_days',\n",
    " 'seller_avg_amount_last_15_days',\n",
    " 'avg_tnx_hour_last_365_days',\n",
    " 'avg_tnx_hour_last_90_days',\n",
    " 'total_sessions_last_7_days',\n",
    " 'seller_avg_num_transactions_per_account_id_ratio_7_to_15_days',\n",
    " 'total_sessions_diff_30_to_90_days',\n",
    " 'std_tnx_hour_last_180_days',\n",
    " 'avg_tnx_hour_last_7_days',\n",
    " 'seller_range_amount_diff_180_to_365_days',\n",
    " 'range_tnx_hour_last_7_days',\n",
    " 'std_tnx_dayofweek_last_150_days',\n",
    " 'total_sessions_diff_15_to_60_days',\n",
    " 'std_tnx_dayofweek_last_7_days',\n",
    " 'avg_tnx_hour_last_120_days',\n",
    " 'seller_range_amount_ratio_180_to_365_days',\n",
    " 'total_sessions_diff_7_to_90_days',\n",
    " 'total_sessions_ratio_3_to_7_days',\n",
    " 'seller_unique_account_ids_last_30_days']\n",
    "\n",
    "cat_cols=['pred_labels', 'city', 'district', 'state']"
   ]
  },
  {
   "cell_type": "code",
   "execution_count": 197,
   "metadata": {},
   "outputs": [],
   "source": [
    "num_cols = [c for c in fts if c not in cat_cols]\n",
    "for c in num_cols:\n",
    "    train_comb[c] = train_comb[c].astype(np.float32)\n",
    "    train_other[c] = train_other[c].astype(np.float32)"
   ]
  },
  {
   "cell_type": "code",
   "execution_count": 198,
   "metadata": {},
   "outputs": [],
   "source": [
    "train_comb = train_comb.fillna(-999)\n",
    "train_other = train_other.fillna(-999)\n",
    "\n",
    "misses = {}\n",
    "for f in fts:\n",
    "    misses[f] = np.sum(train_comb[f] != train_other[f])  "
   ]
  },
  {
   "cell_type": "code",
   "execution_count": 199,
   "metadata": {},
   "outputs": [],
   "source": [
    "c = 'avg_tnx_hour_last_365_days'\n",
    "fltr = train_comb[c] != train_other[c]"
   ]
  },
  {
   "cell_type": "code",
   "execution_count": 200,
   "metadata": {},
   "outputs": [
    {
     "data": {
      "text/plain": [
       "1       11.096450\n",
       "2        7.821205\n",
       "3        7.916391\n",
       "4        9.620403\n",
       "5       10.059968\n",
       "          ...    \n",
       "5763     8.038825\n",
       "5764    10.607505\n",
       "5766     8.961100\n",
       "5767    10.762291\n",
       "5769     7.076483\n",
       "Name: avg_tnx_hour_last_365_days, Length: 4193, dtype: float32"
      ]
     },
     "execution_count": 200,
     "metadata": {},
     "output_type": "execute_result"
    }
   ],
   "source": [
    "train_comb[c][fltr]"
   ]
  },
  {
   "cell_type": "code",
   "execution_count": 201,
   "metadata": {},
   "outputs": [
    {
     "data": {
      "text/plain": [
       "1       11.081493\n",
       "2        7.780958\n",
       "3        7.914542\n",
       "4        9.633314\n",
       "5       10.074841\n",
       "          ...    \n",
       "5763     8.029166\n",
       "5764    10.604863\n",
       "5766     8.941449\n",
       "5767    10.760653\n",
       "5769     7.060959\n",
       "Name: avg_tnx_hour_last_365_days, Length: 4193, dtype: float32"
      ]
     },
     "execution_count": 201,
     "metadata": {},
     "output_type": "execute_result"
    }
   ],
   "source": [
    "train_other[c][fltr]"
   ]
  },
  {
   "cell_type": "code",
   "execution_count": 194,
   "metadata": {},
   "outputs": [
    {
     "data": {
      "text/plain": [
       "avg_tnx_hour_last_365_days                                       5097\n",
       "avg_tnx_hour_last_180_days                                       3429\n",
       "avg_tnx_hour_last_150_days                                       3350\n",
       "avg_tnx_hour_last_120_days                                       3320\n",
       "avg_tnx_hour_last_90_days                                        3190\n",
       "avg_tnx_hour_last_60_days                                        3054\n",
       "avg_tnx_hour_last_45_days                                        2949\n",
       "avg_tnx_hour_last_30_days                                        2874\n",
       "seller_avg_amount_last_15_days                                   2868\n",
       "std_tnx_hour_last_180_days                                       2485\n",
       "std_tnx_hour_last_120_days                                       2369\n",
       "std_tnx_hour_last_150_days                                       2344\n",
       "std_tnx_dayofweek_last_150_days                                  2308\n",
       "std_tnx_hour_last_90_days                                        2260\n",
       "avg_tnx_hour_last_7_days                                         2194\n",
       "std_tnx_dayofweek_last_7_days                                    1676\n",
       "score                                                            1089\n",
       "total_sessions_last_90_days                                       431\n",
       "total_sessions_diff_30_to_90_days                                 431\n",
       "total_sessions_diff_7_to_90_days                                  431\n",
       "pincode_3                                                         345\n",
       "pincode_2                                                         258\n",
       "total_sessions_last_60_days                                       217\n",
       "total_sessions_diff_15_to_60_days                                 217\n",
       "pred_labels                                                       192\n",
       "total_sessions_last_45_days                                       107\n",
       "seller_unique_account_ids_last_30_days                             91\n",
       "buyer_total_transactions_diff_150_to_180_days                      88\n",
       "seller_avg_num_transactions_per_account_id_ratio_7_to_15_days      76\n",
       "seller_unique_account_ids_ratio_3_to_7_days                        49\n",
       "seller_range_amount_ratio_180_to_365_days                          41\n",
       "seller_range_amount_diff_180_to_365_days                           40\n",
       "state                                                              18\n",
       "range_tnx_hour_last_365_days                                       15\n",
       "range_tnx_hour_last_60_days                                        13\n",
       "range_tnx_hour_last_45_days                                        12\n",
       "seller_min_amount_ratio_15_to_30_days                              12\n",
       "range_tnx_hour_last_7_days                                          9\n",
       "range_tnx_hour_last_90_days                                         9\n",
       "range_tnx_hour_last_150_days                                        9\n",
       "seller_min_amount_diff_15_to_30_days                                9\n",
       "range_tnx_hour_last_180_days                                        8\n",
       "range_tnx_hour_last_120_days                                        8\n",
       "total_sessions_ratio_3_to_7_days                                    0\n",
       "total_sessions_diff_3_to_7_days                                     0\n",
       "total_sessions_last_7_days                                          0\n",
       "total_sessions_diff_7_to_30_days                                    0\n",
       "total_sessions_last_3_days                                          0\n",
       "total_sessions_last_15_days                                         0\n",
       "total_sessions_last_30_days                                         0\n",
       "dtype: int64"
      ]
     },
     "execution_count": 194,
     "metadata": {},
     "output_type": "execute_result"
    }
   ],
   "source": [
    "pd.Series(misses).sort_values(ascending=False)"
   ]
  },
  {
   "cell_type": "code",
   "execution_count": 159,
   "metadata": {},
   "outputs": [],
   "source": [
    "training_config = OmegaConf.load('../configs/model_config.yaml')"
   ]
  },
  {
   "cell_type": "code",
   "execution_count": 151,
   "metadata": {},
   "outputs": [],
   "source": [
    "param_kwargs = {} if training_config.model.model_kwargs is None else training_config.model.model_kwargs\n",
    "estimator_obj = getattr(model, training_config.model[\"class\"])(**param_kwargs)\n",
    "validation_scheme = validation.BlockTimeSplit(n_splits=9)\n",
    "\n",
    "classifier_obj = classifier.Classifier(model=estimator_obj,\n",
    "                      validation=validation_scheme ,\n",
    "                      modelling_columns=fts,\n",
    "                      categorical_columns=cat_cols,\n",
    "                      target='target')\n",
    "\n",
    "classifier_obj.fit(train_comb, train_comb['target'])"
   ]
  },
  {
   "cell_type": "code",
   "execution_count": 152,
   "metadata": {},
   "outputs": [
    {
     "data": {
      "text/plain": [
       "[0.43083735909822873,\n",
       " 0.6137281910009182,\n",
       " 0.6846593662176567,\n",
       " 0.6831211692597832,\n",
       " 0.6992722964968692,\n",
       " 0.573108939558451,\n",
       " 0.6422162666045211,\n",
       " 0.5769039074960128,\n",
       " 0.6207166516109606]"
      ]
     },
     "execution_count": 152,
     "metadata": {},
     "output_type": "execute_result"
    }
   ],
   "source": [
    "classifier_obj.oof_scores"
   ]
  }
 ],
 "metadata": {
  "kernelspec": {
   "display_name": "Python 3 (ipykernel)",
   "language": "python",
   "name": "python3"
  },
  "orig_nbformat": 4
 },
 "nbformat": 4,
 "nbformat_minor": 2
}
