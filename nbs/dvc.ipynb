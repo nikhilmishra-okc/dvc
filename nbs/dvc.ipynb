{
 "cells": [
  {
   "cell_type": "code",
   "execution_count": 4,
   "metadata": {},
   "outputs": [
    {
     "name": "stdout",
     "output_type": "stream",
     "text": [
      "analysis_v1_model_prev.ipynb  feature_extraction.ipynb\ttrain.ipynb\n",
      "dvc.ipynb\t\t      merchant_ids_comb.csv\n",
      "empty.txt\t\t      threshold_check.ipynb\n"
     ]
    }
   ],
   "source": [
    "!ls"
   ]
  },
  {
   "cell_type": "code",
   "execution_count": 5,
   "metadata": {},
   "outputs": [],
   "source": [
    "import os"
   ]
  },
  {
   "cell_type": "code",
   "execution_count": 9,
   "metadata": {},
   "outputs": [],
   "source": [
    "files = os.listdir('../data')\n",
    "csv_files = [file for file in files if file.endswith('.csv')]"
   ]
  },
  {
   "cell_type": "code",
   "execution_count": 12,
   "metadata": {},
   "outputs": [
    {
     "name": "stdout",
     "output_type": "stream",
     "text": [
      "../data/test_bnpl.csv\n",
      "../data/test_tl.csv\n",
      "../data/train_bnpl_fts.csv\n",
      "../data/test_bnpl_fts.csv\n",
      "../data/train_tl.csv\n",
      "../data/train_comb.csv\n",
      "../data/test_tl_fts.csv\n",
      "../data/train_tl_fts.csv\n",
      "../data/train_bnpl.csv\n"
     ]
    }
   ],
   "source": [
    "for file in csv_files:\n",
    "    file_path = os.path.join('../data', file)\n",
    "    os.system(f'git rm -r --cached {file_path}')"
   ]
  },
  {
   "cell_type": "code",
   "execution_count": null,
   "metadata": {},
   "outputs": [],
   "source": []
  },
  {
   "cell_type": "code",
   "execution_count": 11,
   "metadata": {},
   "outputs": [
    {
     "data": {
      "text/plain": [
       "['test_bnpl.csv',\n",
       " 'test_tl.csv',\n",
       " 'train_bnpl_fts.csv',\n",
       " 'test_bnpl_fts.csv',\n",
       " 'train_tl.csv',\n",
       " 'train_comb.csv',\n",
       " 'test_tl_fts.csv',\n",
       " 'train_tl_fts.csv',\n",
       " 'train_bnpl.csv']"
      ]
     },
     "execution_count": 11,
     "metadata": {},
     "output_type": "execute_result"
    }
   ],
   "source": [
    "csv_files"
   ]
  },
  {
   "cell_type": "code",
   "execution_count": null,
   "metadata": {},
   "outputs": [],
   "source": []
  }
 ],
 "metadata": {
  "kernelspec": {
   "display_name": "Python 3.7.12 ('base')",
   "language": "python",
   "name": "python3"
  },
  "language_info": {
   "codemirror_mode": {
    "name": "ipython",
    "version": 3
   },
   "file_extension": ".py",
   "mimetype": "text/x-python",
   "name": "python",
   "nbconvert_exporter": "python",
   "pygments_lexer": "ipython3",
   "version": "3.7.12"
  },
  "orig_nbformat": 4,
  "vscode": {
   "interpreter": {
    "hash": "d4d1e4263499bec80672ea0156c357c1ee493ec2b1c70f0acce89fc37c4a6abe"
   }
  }
 },
 "nbformat": 4,
 "nbformat_minor": 2
}
